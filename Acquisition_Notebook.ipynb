{
 "cells": [
  {
   "cell_type": "code",
   "execution_count": null,
   "id": "930413be",
   "metadata": {},
   "outputs": [],
   "source": [
    "import serial\n",
    "import time\n",
    "import pandas as pd\n",
    "import threading"
   ]
  },
  {
   "cell_type": "code",
   "execution_count": null,
   "id": "007b5d84",
   "metadata": {},
   "outputs": [],
   "source": [
    "ser = serial.Serial('COM6',9600,timeout=1)\n",
    "data = pd.DataFrame(columns=['x','y','time'])"
   ]
  },
  {
   "cell_type": "code",
   "execution_count": null,
   "id": "c8fd55a4",
   "metadata": {},
   "outputs": [],
   "source": [
    "run = True\n",
    "start_time = time.time()\n",
    "def joystick_start():\n",
    "    while run:\n",
    "        if ser.in_waiting:\n",
    "            line = ser.readline().decode('utf-8',errors='replace').strip()\n",
    "            time_pt = time.time()-start_time\n",
    "            x_y = line.split(',')\n",
    "            x = float(x_y[0])\n",
    "            y = float(x_y[1])\n",
    "        data.loc[len(data)] = [x,y,time_pt]\n",
    "\n",
    "thread = threading.Thread(target=joystick_start)\n",
    "thread.start()\n",
    "\n",
    "    \n"
   ]
  },
  {
   "cell_type": "code",
   "execution_count": null,
   "id": "5b3e6251",
   "metadata": {},
   "outputs": [],
   "source": [
    "#Code for EEG here"
   ]
  },
  {
   "cell_type": "code",
   "execution_count": null,
   "id": "a63e2ba6",
   "metadata": {},
   "outputs": [],
   "source": [
    "run = False\n",
    "thread.join()"
   ]
  },
  {
   "cell_type": "code",
   "execution_count": null,
   "id": "f98e24b8",
   "metadata": {},
   "outputs": [],
   "source": [
    "data.to_csv('data.csv',index=False)"
   ]
  }
 ],
 "metadata": {
  "kernelspec": {
   "display_name": "pytorch2.5",
   "language": "python",
   "name": "python3"
  },
  "language_info": {
   "codemirror_mode": {
    "name": "ipython",
    "version": 3
   },
   "file_extension": ".py",
   "mimetype": "text/x-python",
   "name": "python",
   "nbconvert_exporter": "python",
   "pygments_lexer": "ipython3",
   "version": "3.12.9"
  }
 },
 "nbformat": 4,
 "nbformat_minor": 5
}
